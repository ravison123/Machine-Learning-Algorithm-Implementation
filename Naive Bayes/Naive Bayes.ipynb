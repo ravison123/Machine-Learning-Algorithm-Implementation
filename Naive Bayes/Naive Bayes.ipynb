{
 "cells": [
  {
   "cell_type": "code",
   "execution_count": 6,
   "metadata": {
    "ExecuteTime": {
     "end_time": "2021-04-17T17:09:14.611919Z",
     "start_time": "2021-04-17T17:09:14.599233Z"
    }
   },
   "outputs": [],
   "source": [
    "import numpy as np\n",
    "import matplotlib.pyplot as plt\n",
    "import os\n",
    "from sklearn.model_selection import train_test_split"
   ]
  },
  {
   "cell_type": "code",
   "execution_count": 7,
   "metadata": {
    "ExecuteTime": {
     "end_time": "2021-04-17T17:09:22.950137Z",
     "start_time": "2021-04-17T17:09:14.614112Z"
    }
   },
   "outputs": [],
   "source": [
    "os.chdir(r'C:\\Users\\sonaw\\OneDrive\\Desktop\\CS229\\Practice\\Machine-Learning-Algorithm-Implementation\\Naive Bayes\\dataset2')\n",
    "X = np.load('X.npy')\n",
    "y = np.load('Y.npy')\n",
    "dic = np.load('dictionary.npy')"
   ]
  },
  {
   "cell_type": "code",
   "execution_count": 8,
   "metadata": {
    "ExecuteTime": {
     "end_time": "2021-04-17T17:09:23.367927Z",
     "start_time": "2021-04-17T17:09:22.952000Z"
    }
   },
   "outputs": [],
   "source": [
    "X_train, X_test, y_train, y_test = train_test_split(X, y, test_size = 0.25, random_state = 10)"
   ]
  },
  {
   "cell_type": "code",
   "execution_count": 9,
   "metadata": {
    "ExecuteTime": {
     "end_time": "2021-04-17T17:09:23.389872Z",
     "start_time": "2021-04-17T17:09:23.367927Z"
    }
   },
   "outputs": [],
   "source": [
    "class NaiveBayes:\n",
    "        \n",
    "    def fit(self, X, y):\n",
    "        '''\n",
    "        This function / method fits parameters of Naive Bayes / Event Model algorithm to the data.\n",
    "        \n",
    "        parameters:\n",
    "        X: Feature matrix of shape (m, n)\n",
    "            m = Number of training examples\n",
    "            n = Size of the vocabulary\n",
    "        y: Target / label vector of shape (m, 1)\n",
    "        \n",
    "        output:\n",
    "        This method calculates the parameters of Naive Bayes / Event Model algorithm and save them as\n",
    "        instance attributes of the class.\n",
    "        phi_y1: List of probabilities (P(xi=1|y=1))\n",
    "        phi_y0: List of probabilities (P(xi=1|y=0))\n",
    "        phi_y: Parameter phi_y (P(y=1))\n",
    "        '''\n",
    "        self.y = y\n",
    "        self.X = X\n",
    "        self.m = X.shape[0]\n",
    "        self.n = X.shape[1]\n",
    "        self.phi_y = np.sum(self.y) / self.m\n",
    "        self.phi_y1 = np.empty(shape = (self.n, 1))\n",
    "        self.phi_y0 = np.empty(shape = (self.n, 1))\n",
    "        for j in range(self.n):\n",
    "            count_1 = 0\n",
    "            count_2 = 0\n",
    "            for i, k in zip(self.X[:,j], self.y):\n",
    "                if i == 1 and k == 1:\n",
    "                    count_1 = count_1 + 1\n",
    "                if i == 1 and k == 0:\n",
    "                    count_2 = count_2 + 1\n",
    "            self.phi_y1[j][0] = count_1 / np.sum(self.y)\n",
    "            self.phi_y0[j][0] = count_2 / np.sum(np.where(self.y==0, 1, 0))\n",
    "            \n",
    "    def predict(self, X_test):\n",
    "        '''\n",
    "        This function / method predicts classes for examples in feature matrix X_test.\n",
    "        \n",
    "        parameters:\n",
    "        X_test: Feature matrix of shape (n_samples, vocabulary)\n",
    "            n_samples = Number of samples\n",
    "            vocabulary = Length of vocabulary / dictionary\n",
    "            \n",
    "        output:\n",
    "        y_pred: Prediction vector of shape (n_samples, 1)\n",
    "        '''\n",
    "        y_pred = np.empty(shape = (X_test.shape[0], 1))\n",
    "        for i in range(X_test.shape[0]):\n",
    "            y_pred[i][0] = self.predict_example(X_test[i, :])\n",
    "        return y_pred\n",
    "    \n",
    "    def predict_example(self, X_example):\n",
    "        '''\n",
    "        This function / method predicts class of a single example.\n",
    "        \n",
    "        parameters:\n",
    "        X_example: Feature matrix containing single example of shape (vocabulary, 1)\n",
    "        \n",
    "        output:\n",
    "        class of example: 0 / 1 depending on whether P(y=1|x) or P(y=0|x) is greater\n",
    "        '''\n",
    "        # First lets calculate P(x|y=1) and P(x|y=0)\n",
    "        px_y1 = 1\n",
    "        px_y0 = 1\n",
    "        for i in range(X_example.shape[0]):\n",
    "            px_y1 = px_y1 * ((self.phi_y1[i][0]) ** X_example[i]) * ((1- self.phi_y1[i][0]) ** (1 - X_example[i]))\n",
    "            px_y0 = px_y0 * ((self.phi_y0[i][0]) ** X_example[i]) * ((1- self.phi_y0[i][0]) ** (1 - X_example[i]))\n",
    "            \n",
    "        # Calculate P(y=1|x) and P(y=0|x) using Bayes rule\n",
    "        py1_x = ((px_y1 * (self.phi_y)) + 1) / (((px_y1 * (self.phi_y)) + (px_y0 * (1 - self.phi_y))) + 2)\n",
    "        py0_x = ((px_y0 * (1 - self.phi_y)) + 1) / (((px_y1 * (self.phi_y)) + (px_y0 * (1 - self.phi_y))) + 2)\n",
    "        \n",
    "        if py1_x > py0_x:\n",
    "            return 1\n",
    "        else:\n",
    "            return 0\n",
    "        \n",
    "def accuracy_calc(y, y_pred):\n",
    "    '''\n",
    "    This function calculates accuracy of the classification.\n",
    "        \n",
    "    parameters:\n",
    "    y: Target / label vector of shape (m, 1)\n",
    "    y_pred: Predicted vector of shape (m, 1)\n",
    "            \n",
    "    Outputs:\n",
    "    accuracy: accuracy of the classification in percentage.\n",
    "    '''\n",
    "    length = y.shape[0]\n",
    "    y = y.reshape((length, 1))\n",
    "    y_pred = y_pred.reshape((length, 1))\n",
    "    accuracy = np.round(np.sum(np.where(y == y_pred, 1, 0)) / len(y), 2) * 100\n",
    "    return accuracy"
   ]
  },
  {
   "cell_type": "code",
   "execution_count": 10,
   "metadata": {
    "ExecuteTime": {
     "end_time": "2021-04-17T17:14:33.226552Z",
     "start_time": "2021-04-17T17:09:23.389872Z"
    }
   },
   "outputs": [
    {
     "name": "stdout",
     "output_type": "stream",
     "text": [
      "Test accuracy: 75.0\n"
     ]
    }
   ],
   "source": [
    "clf1 = NaiveBayes()\n",
    "clf1.fit(X_train, y_train)\n",
    "y_test_pred = clf1.predict(X_test)\n",
    "test_acc = accuracy_calc(y_test, y_test_pred)\n",
    "print('Test accuracy: {}'.format(test_acc))"
   ]
  },
  {
   "cell_type": "code",
   "execution_count": 11,
   "metadata": {
    "ExecuteTime": {
     "end_time": "2021-04-17T17:14:39.587888Z",
     "start_time": "2021-04-17T17:14:33.227981Z"
    },
    "scrolled": true
   },
   "outputs": [
    {
     "name": "stdout",
     "output_type": "stream",
     "text": [
      "Test accuracy using Sci-kit learn library (Bernouli NB) is: 94.0\n",
      "Average test accuracy using Sci-kit learn library (Bernouli NB) is: 94.0\n"
     ]
    }
   ],
   "source": [
    "from sklearn.naive_bayes import BernoulliNB\n",
    "clf2 = BernoulliNB()\n",
    "clf2.fit(X_train, y_train)\n",
    "y_test_pred = clf2.predict(X_test)\n",
    "acc_sklearn = accuracy_calc(y_test, y_test_pred)\n",
    "print('Test accuracy using Sci-kit learn library (Bernouli NB) is: {}'.format(acc_sklearn))\n",
    "average_accuracy = np.round(clf2.score(X_train, y_train), 2) * 100\n",
    "print('Average test accuracy using Sci-kit learn library (Bernouli NB) is: {}'.format(average_accuracy))"
   ]
  },
  {
   "cell_type": "code",
   "execution_count": 12,
   "metadata": {
    "ExecuteTime": {
     "end_time": "2021-04-17T17:14:43.370953Z",
     "start_time": "2021-04-17T17:14:39.589874Z"
    }
   },
   "outputs": [
    {
     "name": "stdout",
     "output_type": "stream",
     "text": [
      "Test accuracy using Sci-kit learn library (Multinomial NB) is: 99.0\n",
      "Average test accuracy using Sci-kit learn library (Multinomial NB) is: 99.0\n"
     ]
    }
   ],
   "source": [
    "from sklearn.naive_bayes import MultinomialNB\n",
    "clf3 = MultinomialNB()\n",
    "clf3.fit(X_train, y_train)\n",
    "y_test_pred = clf3.predict(X_test)\n",
    "acc_sklearn = accuracy_calc(y_test, y_test_pred)\n",
    "print('Test accuracy using Sci-kit learn library (Multinomial NB) is: {}'.format(acc_sklearn))\n",
    "average_accuracy = np.round(clf3.score(X_train, y_train), 2) * 100\n",
    "print('Average test accuracy using Sci-kit learn library (Multinomial NB) is: {}'.format(average_accuracy))"
   ]
  }
 ],
 "metadata": {
  "hide_input": false,
  "kernelspec": {
   "display_name": "Python 3",
   "language": "python",
   "name": "python3"
  },
  "language_info": {
   "codemirror_mode": {
    "name": "ipython",
    "version": 3
   },
   "file_extension": ".py",
   "mimetype": "text/x-python",
   "name": "python",
   "nbconvert_exporter": "python",
   "pygments_lexer": "ipython3",
   "version": "3.8.3"
  },
  "toc": {
   "base_numbering": 1,
   "nav_menu": {},
   "number_sections": true,
   "sideBar": true,
   "skip_h1_title": false,
   "title_cell": "Table of Contents",
   "title_sidebar": "Contents",
   "toc_cell": false,
   "toc_position": {},
   "toc_section_display": true,
   "toc_window_display": false
  },
  "varInspector": {
   "cols": {
    "lenName": 16,
    "lenType": 16,
    "lenVar": 40
   },
   "kernels_config": {
    "python": {
     "delete_cmd_postfix": "",
     "delete_cmd_prefix": "del ",
     "library": "var_list.py",
     "varRefreshCmd": "print(var_dic_list())"
    },
    "r": {
     "delete_cmd_postfix": ") ",
     "delete_cmd_prefix": "rm(",
     "library": "var_list.r",
     "varRefreshCmd": "cat(var_dic_list()) "
    }
   },
   "types_to_exclude": [
    "module",
    "function",
    "builtin_function_or_method",
    "instance",
    "_Feature"
   ],
   "window_display": false
  }
 },
 "nbformat": 4,
 "nbformat_minor": 4
}
