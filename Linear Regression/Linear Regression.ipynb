{
 "cells": [
  {
   "cell_type": "markdown",
   "metadata": {},
   "source": [
    "# Import required libraries"
   ]
  },
  {
   "cell_type": "code",
   "execution_count": 1,
   "metadata": {
    "ExecuteTime": {
     "end_time": "2021-05-01T11:31:28.679827Z",
     "start_time": "2021-05-01T11:31:27.239672Z"
    }
   },
   "outputs": [],
   "source": [
    "import numpy as np\n",
    "import pandas as pd\n",
    "import matplotlib.pyplot as plt\n",
    "from sklearn.datasets import make_regression\n",
    "from sklearn.model_selection import train_test_split\n",
    "%matplotlib inline"
   ]
  },
  {
   "cell_type": "markdown",
   "metadata": {},
   "source": [
    "# Implementation of Linear Regression"
   ]
  },
  {
   "cell_type": "code",
   "execution_count": 2,
   "metadata": {
    "ExecuteTime": {
     "end_time": "2021-05-01T11:31:28.787858Z",
     "start_time": "2021-05-01T11:31:28.684385Z"
    }
   },
   "outputs": [],
   "source": [
    "class LinearRegression:\n",
    "    '''\n",
    "    Implementation of Linear Regression algorithm\n",
    "        \n",
    "    Arguements:\n",
    "    algo (optional): 'normal_eq' / 'batch_grad_descent' / 'stochastic_grad_descent' / 'newton_method'\n",
    "        Type of algorithm to be used for linear regression (default: 'normal_eq')\n",
    "    num_iter (optional): Max number of iterations (default value: 5000) (if convergence is acheived before this number,\n",
    "    algorithm will stop) (Ignored when 'normal_eq' is algo)\n",
    "    learning_rate (optional): Value for learning rate (default value: 0.001)\n",
    "    epsilon (optional): Threshold of square error difference between costs of consecutive iterations used to\n",
    "    decide convergence of gradient descent algorithm (default value = 1e-04)\n",
    "    verbose (optional): Boolean value which decide whether the output of the algorithm will be verbose (default value = False)\n",
    "    initialization (optional): 'zeros' / 'random', parameter used for method of initialization of parameter matrix\n",
    "        (default value = 'zeros')\n",
    "    lmbda (optional): Regularization parameter (default value = 0)\n",
    "    \n",
    "    Outputs:\n",
    "    theta: Parameter matrix of shape (n, 1)\n",
    "    costs: A dictionary with iteration number key and corresponding cost as value    \n",
    "    '''\n",
    "    def __init__(self, algo = 'normal_eq', num_iter = 5000, learning_rate = 0.001,\n",
    "                  epsilon = 1e-04, verbose = False, initialization = 'zeros', lmbda = 0):\n",
    "        self.num_iter = num_iter\n",
    "        self.algo = algo\n",
    "        self.learning_rate = learning_rate\n",
    "        self.epsilon = epsilon\n",
    "        self.verbose = verbose\n",
    "        self.initialization = initialization\n",
    "        self.lmbda = lmbda\n",
    "        \n",
    "    def fit(self, X, y, dummy_feature_add = False):\n",
    "        '''\n",
    "        This function / method fits parameters of linear regression with training data X and y.\n",
    "        X: Feature matrix of shape (m, n), m = number of training examples, n = number of features\n",
    "        y: Output / label vector of shape (m, 1)\n",
    "        dummy_feature_add: Boolean parameter to decide whether dummy feature need to be added in the feature matrix\n",
    "            Default value: False\n",
    "        '''\n",
    "        self.X = X\n",
    "        self.m = X.shape[0]\n",
    "        # Convert 1D array to 2D array\n",
    "        if np.ndim(self.X) == 1:\n",
    "            self.X = self.X.reshape(-1, 1)\n",
    "        # Function which will add dummy feature to the feature matrix\n",
    "        if dummy_feature_add:\n",
    "            self.X = add_dummy(self.X)\n",
    "        self.y = y.reshape(self.m, 1)\n",
    "        self.n = self.X.shape[1]\n",
    "        \n",
    "        # Intitialize paramters as per initialization criterion\n",
    "        if self.initialization == 'zeros':\n",
    "            self.theta = np.zeros(shape = (self.n, 1))\n",
    "        else:\n",
    "            self.theta = np.random.rand(self.n, 1)\n",
    "        \n",
    "        if self.algo != 'normal_eq':\n",
    "            self.hypothesis_calc()\n",
    "            cost = self.cost_calc()\n",
    "            self.costs = {}\n",
    "            self.costs[0] = cost\n",
    "            if self.verbose:\n",
    "                print('Initial cost: {}'.format(cost))\n",
    "        \n",
    "        # Implementation of batch gradient descent algorithm\n",
    "        if self.algo == 'batch_grad_descent':\n",
    "            for i in range(self.num_iter):\n",
    "                self.hypothesis_calc()\n",
    "                self.update_gradients()\n",
    "                if self.verbose:\n",
    "                    if ((i + 1) % 10) == 0:\n",
    "                        cost = self.cost_calc()\n",
    "                        print('Iteration: {}, Cost: {}'.format(i+1, cost))\n",
    "                        self.costs[i+1] = cost\n",
    "                if len(self.costs) >= 2:\n",
    "                    if self.convergence_check():\n",
    "                        print('Alogorithm has converged')\n",
    "                        break\n",
    "                        \n",
    "        # Implementation of stochastic gradient descent algorithm\n",
    "        elif self.algo == 'stochastic_grad_descent':\n",
    "            for i in range(self.num_iter):\n",
    "                index = i % (len(self.y) - 1)\n",
    "                for j in range(self.n):\n",
    "                    self.theta[j][0] -= (self.learning_rate * (self.h[index] - self.y[index]) * self.X[index, :][j] +\n",
    "                                         self.lmbda * self.theta[j][0])\n",
    "                self.hypothesis_calc()\n",
    "                if self.verbose:\n",
    "                    if ((i + 1) % 10) == 0:\n",
    "                        cost = self.cost_calc()\n",
    "                        print('Iteration: {}, Cost: {}'.format(i+1, cost))\n",
    "                        self.costs[i+1] = cost\n",
    "                if len(self.costs) >= 2:\n",
    "                    if self.convergence_check():\n",
    "                        print('Alogorithm has converged')\n",
    "                        break\n",
    "            \n",
    "        # Implementation of linear regression using Normal Equation\n",
    "        elif self.algo == 'normal_eq':\n",
    "            matrix_1 = np.linalg.inv(np.matmul(np.transpose(self.X), self.X) + self.lmbda)\n",
    "            matrix_2 = np.matmul(matrix_1, np.transpose(self.X))\n",
    "            self.theta = np.matmul(matrix_2, self.y)\n",
    "            \n",
    "        # Implementation of linear regression using Newton's method\n",
    "        elif self.algo == 'newton_method':\n",
    "            for i in range(self.num_iter):\n",
    "                mat1 = np.linalg.inv(np.matmul(self.X.T, self.X) + self.lmbda)\n",
    "                mat2 = (np.matmul(np.matmul(self.X.T, self.X), self.theta) - (np.matmul(self.X.T, self.y)) +\n",
    "                        (self.lmbda * self.theta))\n",
    "                self.theta = self.theta - np.matmul(mat1, mat2)\n",
    "                self.hypothesis_calc()\n",
    "                if self.verbose:\n",
    "                    cost = self.cost_calc()\n",
    "                    print('Iteration: {}, Cost: {}'.format(i+1, cost))\n",
    "                    self.costs[i+1] = cost\n",
    "                if len(self.costs) >= 2:\n",
    "                    if self.convergence_check():\n",
    "                        print('Alogorithm has converged')\n",
    "                        break\n",
    "            \n",
    "    def update_gradients(self):\n",
    "        '''\n",
    "        This function / method updates parameter matrix (theta) when batch gradient descent algorithm is used for\n",
    "        optimization of parameters\n",
    "        '''\n",
    "        int_term = np.nansum(np.multiply((self.h - self.y), self.X), axis = 0)\n",
    "        int_term = int_term.reshape((self.n,1))\n",
    "        self.theta = self.theta - (self.learning_rate * int_term) - (self.lmbda * self.theta)\n",
    "        \n",
    "    def cost_calc(self):\n",
    "        '''\n",
    "        This function / method calculates cost.\n",
    "\n",
    "        Returns:\n",
    "        cost: Calculated cost based on hypothesis (h) and output matrix (y)\n",
    "        '''\n",
    "        cost = 0.5 * np.nansum(np.square((self.h-self.y))) + (0.5 * self.lmbda * (np.linalg.norm(self.theta) ** 2))\n",
    "        return cost\n",
    "    \n",
    "    def hypothesis_calc(self):\n",
    "        '''\n",
    "        This function / method calculates hypothesis matrix.\n",
    "\n",
    "        Returns: This function does not return a value. It updates hypothesis attribute of the class.\n",
    "        h (hypothesis attribute of class): Hypothesis matrix of shape (m, 1)\n",
    "        '''\n",
    "        self.h = np.sum(np.transpose(self.theta) * self.X, axis = 1)\n",
    "        self.h = self.h.reshape((self.m, 1))\n",
    "        \n",
    "    def convergence_check(self):\n",
    "        '''\n",
    "        This function / method checks convergence of the algorithm.\n",
    "\n",
    "        Returns:\n",
    "        Boolean (True / False) value of whether algorithm has been converged\n",
    "        '''\n",
    "        last_two_elem = list(self.costs.values())[-2:]\n",
    "        error = (last_two_elem[0] - last_two_elem[1]) ** 2\n",
    "        return error < self.epsilon\n",
    "    \n",
    "    def predict(self, X_pred, dummy_feature_add = False):\n",
    "        '''\n",
    "        This function / method calculates output (y) using fitted parameters for given feature matrix X_pred.\n",
    "\n",
    "        Arguements:\n",
    "        X_pred: Feature matrix of shape (m, n), m = number of examples, n = number of features\n",
    "        dummy_feature_add: Boolean parameter to decide whether dummy feature need to be added in the feature matrix\n",
    "            Default value: False\n",
    "        \n",
    "        Returns:\n",
    "        y_pred: Predicted output matrix of shape (m, 1)\n",
    "        '''\n",
    "        if np.ndim(X_pred) == 1:\n",
    "            X_pred = X_pred.reshape(-1, 1)\n",
    "        if dummy_feature_add:\n",
    "            X_pred = add_dummy(X_pred)\n",
    "        y_pred = np.sum(np.multiply(np.transpose(self.theta), X_pred), axis = 1)\n",
    "        y_pred = y_pred.reshape((X_pred.shape[0], 1))    \n",
    "        return y_pred\n",
    "    \n",
    "    def r_square(self, y_true, y_pred):\n",
    "        '''\n",
    "        This function calculates r-square value of the linear regression model.\n",
    "\n",
    "        Arguements:\n",
    "        y_true: True output / label matrix of shape (m, 1), m = number of examples\n",
    "        y_pred: Predicted output matrix of shape (m, 1)\n",
    "\n",
    "        Returns:\n",
    "        r_square: r_square_value of the linear regression model rounded to 3 digits\n",
    "\n",
    "        '''\n",
    "        y_true = y_true.reshape(-1, 1)\n",
    "        y_mean = np.mean(y_true)\n",
    "        ss_total = np.sum(np.square(y_true - y_mean))\n",
    "        ss_res = np.sum(np.square(y_true - y_pred))\n",
    "        r_square = round((1 - (ss_res / ss_total)), 3)\n",
    "        return r_square\n",
    "    \n",
    "def add_dummy(X):\n",
    "    '''\n",
    "    This function adds dummy feature (x0 = 1) to the feature matrix.\n",
    "    '''\n",
    "    x_0 = np.ones(shape = (X.shape[0], 1))\n",
    "    X = np.concatenate((x_0, X), axis = 1)\n",
    "    return X"
   ]
  },
  {
   "cell_type": "markdown",
   "metadata": {},
   "source": [
    "# Import the synthetic dataset with only one feature\n",
    "Synthetic dataset taken from Kaggle has been used to test implementation of Linear Regression"
   ]
  },
  {
   "cell_type": "code",
   "execution_count": 3,
   "metadata": {
    "ExecuteTime": {
     "end_time": "2021-05-01T11:31:28.991182Z",
     "start_time": "2021-05-01T11:31:28.793263Z"
    }
   },
   "outputs": [],
   "source": [
    "# The dataset for this analysis is taken from: https://www.kaggle.com/andonians/random-linear-regression\n",
    "train = pd.read_csv('train.csv')\n",
    "test = pd.read_csv('test.csv')\n",
    "# Remove blank rows from the data\n",
    "train = train.dropna()\n",
    "test = test.dropna()"
   ]
  },
  {
   "cell_type": "markdown",
   "metadata": {},
   "source": [
    "# Scale Train and Test dataset"
   ]
  },
  {
   "cell_type": "code",
   "execution_count": 4,
   "metadata": {
    "ExecuteTime": {
     "end_time": "2021-05-01T11:31:29.050041Z",
     "start_time": "2021-05-01T11:31:28.993421Z"
    }
   },
   "outputs": [],
   "source": [
    "# Scale / normalize the train and test dataframes\n",
    "max_value = train['x'].max()\n",
    "min_value = train['x'].min()\n",
    "\n",
    "train_scaled = pd.DataFrame()\n",
    "train_scaled['x'] = (train['x'] - min_value) / (max_value - min_value)\n",
    "train_scaled['y'] = train['y']\n",
    "\n",
    "test_scaled = pd.DataFrame()\n",
    "test_scaled['x'] = (test['x'] - min_value) / (max_value - min_value)\n",
    "test_scaled['y'] = test['y']\n",
    "\n",
    "# Convert the dataframe to numpy arrays\n",
    "x_train, y_train = train_scaled['x'].to_numpy(), train_scaled['y'].to_numpy()\n",
    "x_test, y_test = test_scaled['x'].to_numpy(), test_scaled['y'].to_numpy()"
   ]
  },
  {
   "cell_type": "markdown",
   "metadata": {},
   "source": [
    "# Linear Regression with different methods for optimization of parameters\n",
    "1. Normal Equation Method\n",
    "2. Batch Gradient Descent Method\n",
    "3. Stochastic Gradient Descent Method\n",
    "4. Newton's Method"
   ]
  },
  {
   "cell_type": "code",
   "execution_count": 5,
   "metadata": {
    "ExecuteTime": {
     "end_time": "2021-05-01T11:31:29.068092Z",
     "start_time": "2021-05-01T11:31:29.052622Z"
    }
   },
   "outputs": [
    {
     "name": "stdout",
     "output_type": "stream",
     "text": [
      "R-square value on test dataset is 0.989\n"
     ]
    }
   ],
   "source": [
    "# Linear regression with normal equation and without regularization\n",
    "lr1 = LinearRegression()\n",
    "lr1.fit(x_train, y_train, dummy_feature_add = True)\n",
    "y_test_pred_normal_eq = lr1.predict(x_test, dummy_feature_add = True)\n",
    "r_square_norm = lr1.r_square(y_test, y_test_pred_normal_eq)\n",
    "print('R-square value on test dataset is {}'.format(r_square_norm))"
   ]
  },
  {
   "cell_type": "code",
   "execution_count": 6,
   "metadata": {
    "ExecuteTime": {
     "end_time": "2021-05-01T11:31:29.900893Z",
     "start_time": "2021-05-01T11:31:29.068092Z"
    },
    "scrolled": true
   },
   "outputs": [
    {
     "name": "stdout",
     "output_type": "stream",
     "text": [
      "R-square value on test dataset is 0.989\n"
     ]
    }
   ],
   "source": [
    "# Linear regression with batch gradient descent algorithm for optimization (without regularization)\n",
    "lr2 = LinearRegression(algo = 'batch_grad_descent', learning_rate=0.0001, verbose = False)\n",
    "lr2.fit(x_train, y_train, dummy_feature_add = True)\n",
    "y_test_pred_batch = lr2.predict(x_test, dummy_feature_add = True)\n",
    "r_square_batch = lr2.r_square(y_test, y_test_pred_batch)\n",
    "print('R-square value on test dataset is {}'.format(r_square_batch))"
   ]
  },
  {
   "cell_type": "code",
   "execution_count": 7,
   "metadata": {
    "ExecuteTime": {
     "end_time": "2021-05-01T11:31:35.722272Z",
     "start_time": "2021-05-01T11:31:29.903323Z"
    }
   },
   "outputs": [
    {
     "name": "stdout",
     "output_type": "stream",
     "text": [
      "R-square value on test dataset is 0.989\n"
     ]
    }
   ],
   "source": [
    "# Linear regression with stochastic gradient descent algorithm for optimization (without regularization)\n",
    "lr3 = LinearRegression(algo = 'stochastic_grad_descent', learning_rate=0.005, num_iter = 60000, verbose = False)\n",
    "lr3.fit(x_train, y_train, dummy_feature_add = True)\n",
    "y_test_pred_stochastic = lr3.predict(x_test, dummy_feature_add = True)\n",
    "r_square_stochastic = lr3.r_square(y_test, y_test_pred_stochastic)\n",
    "print('R-square value on test dataset is {}'.format(r_square_stochastic))"
   ]
  },
  {
   "cell_type": "code",
   "execution_count": 8,
   "metadata": {
    "ExecuteTime": {
     "end_time": "2021-05-01T11:31:36.667742Z",
     "start_time": "2021-05-01T11:31:35.727793Z"
    },
    "scrolled": false
   },
   "outputs": [
    {
     "name": "stdout",
     "output_type": "stream",
     "text": [
      "R-square value on test dataset is 0.989\n"
     ]
    }
   ],
   "source": [
    "# Linear regression with Newton's method for optimization (without regularization)\n",
    "lr4 = LinearRegression(algo = 'newton_method', verbose = False)\n",
    "lr4.fit(x_train, y_train, dummy_feature_add = True)\n",
    "y_test_pred_newton = lr4.predict(x_test, dummy_feature_add = True)\n",
    "r_square_newton = lr4.r_square(y_test, y_test_pred_newton)\n",
    "print('R-square value on test dataset is {}'.format(r_square_newton))"
   ]
  },
  {
   "cell_type": "markdown",
   "metadata": {},
   "source": [
    "# Effect of regularization"
   ]
  },
  {
   "cell_type": "code",
   "execution_count": 9,
   "metadata": {
    "ExecuteTime": {
     "end_time": "2021-05-01T11:31:37.020098Z",
     "start_time": "2021-05-01T11:31:36.673021Z"
    }
   },
   "outputs": [
    {
     "data": {
      "image/png": "[encoded data removed]",
      "text/plain": [
       "<Figure size 432x288 with 1 Axes>"
      ]
     },
     "metadata": {
      "needs_background": "light"
     },
     "output_type": "display_data"
    }
   ],
   "source": [
    "'''Lets create another synthetic dataset (noisy dataset to demonstrate effect of regularization)\n",
    "using scikit learn'''\n",
    "X, y = make_regression(n_samples = 1000, n_features = 1, n_informative = 1, bias = 25,\n",
    "                       noise = 50, tail_strength = 10, random_state = 0)\n",
    "plt.scatter(X, y);\n",
    "X_train, X_test, y_train, y_test = train_test_split(X, y, random_state = 0)"
   ]
  },
  {
   "cell_type": "code",
   "execution_count": 10,
   "metadata": {
    "ExecuteTime": {
     "end_time": "2021-05-01T11:31:37.515425Z",
     "start_time": "2021-05-01T11:31:37.023100Z"
    }
   },
   "outputs": [
    {
     "data": {
      "text/plain": [
       "<matplotlib.legend.Legend at 0x1bd156b86d0>"
      ]
     },
     "execution_count": 10,
     "metadata": {},
     "output_type": "execute_result"
    },
    {
     "data": {
      "image/png": "[encoded data removed]",
      "text/plain": [
       "<Figure size 864x576 with 1 Axes>"
      ]
     },
     "metadata": {
      "needs_background": "light"
     },
     "output_type": "display_data"
    }
   ],
   "source": [
    "lmbda_list = [0, 1, 10, 50, 100, 200]\n",
    "y_pred_list = []\n",
    "r_square_list = []\n",
    "for i in lmbda_list:\n",
    "    lr = LinearRegression(lmbda = i)\n",
    "    lr.fit(X_train, y_train, dummy_feature_add = True)\n",
    "    y_pred_list.append(lr.predict(X_test, dummy_feature_add = True))\n",
    "    r_square_list.append(lr.r_square(y_test, y_pred_list[-1]))\n",
    "    \n",
    "plt.figure(figsize = (12, 8))\n",
    "for i in range(len(y_pred_list)):\n",
    "    plt.plot(X_test, y_pred_list[i], label = 'Lambda: {}, R-square: {}'.format(lmbda_list[i], r_square_list[i]))\n",
    "plt.xlabel('X')\n",
    "plt.ylabel('y')\n",
    "plt.title('Effect of regularization on fitting of paramters for Linear Regression')\n",
    "plt.scatter(X_test, y_test)\n",
    "plt.legend()"
   ]
  }
 ],
 "metadata": {
  "hide_input": false,
  "kernelspec": {
   "display_name": "Python 3",
   "language": "python",
   "name": "python3"
  },
  "language_info": {
   "codemirror_mode": {
    "name": "ipython",
    "version": 3
   },
   "file_extension": ".py",
   "mimetype": "text/x-python",
   "name": "python",
   "nbconvert_exporter": "python",
   "pygments_lexer": "ipython3",
   "version": "3.8.3"
  },
  "toc": {
   "base_numbering": 1,
   "nav_menu": {},
   "number_sections": true,
   "sideBar": true,
   "skip_h1_title": false,
   "title_cell": "Table of Contents",
   "title_sidebar": "Contents",
   "toc_cell": false,
   "toc_position": {
    "height": "calc(100% - 180px)",
    "left": "10px",
    "top": "150px",
    "width": "272px"
   },
   "toc_section_display": true,
   "toc_window_display": true
  },
  "varInspector": {
   "cols": {
    "lenName": 16,
    "lenType": 16,
    "lenVar": 40
   },
   "kernels_config": {
    "python": {
     "delete_cmd_postfix": "",
     "delete_cmd_prefix": "del ",
     "library": "var_list.py",
     "varRefreshCmd": "print(var_dic_list())"
    },
    "r": {
     "delete_cmd_postfix": ") ",
     "delete_cmd_prefix": "rm(",
     "library": "var_list.r",
     "varRefreshCmd": "cat(var_dic_list()) "
    }
   },
   "types_to_exclude": [
    "module",
    "function",
    "builtin_function_or_method",
    "instance",
    "_Feature"
   ],
   "window_display": false
  }
 },
 "nbformat": 4,
 "nbformat_minor": 4
}
